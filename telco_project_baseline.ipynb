{
 "cells": [
  {
   "cell_type": "code",
   "execution_count": 1,
   "metadata": {},
   "outputs": [],
   "source": [
    "import warnings\n",
    "warnings.filterwarnings(\"ignore\")\n",
    "\n",
    "from sklearn.preprocessing import LabelEncoder\n",
    "from sklearn.impute import SimpleImputer\n",
    "from sklearn.preprocessing import LabelEncoder, OneHotEncoder, MinMaxScaler\n",
    "from sklearn.model_selection import train_test_split\n",
    "from sklearn.tree import DecisionTreeClassifier\n",
    "from sklearn.tree import export_graphviz\n",
    "from sklearn.metrics import confusion_matrix\n",
    "from sklearn.metrics import classification_report\n",
    "\n",
    "import pandas as pd\n",
    "import numpy as np\n",
    "import env\n",
    "import acquire\n",
    "import prepare"
   ]
  },
  {
   "cell_type": "markdown",
   "metadata": {},
   "source": [
    "## Project Planning"
   ]
  },
  {
   "cell_type": "markdown",
   "metadata": {},
   "source": [
    "- Data dictionary\n",
    "\n",
    "**internet_service_type_id:** type of internet service a customer has with the options of DSL = 1, Fiber Optic = 2, None = 3 \n",
    "\n",
    "**payment_type_id:** type of payment setup for a customer the options of Electronic Check = 1, Mailed Check = 2, Bank Transfer = 3, Credit Card = 4 \n",
    "\n",
    "**contract_type_id:** type of contract selected by a customer with the options of Month-to-Month = 1, One Year = 2, Two Year = 3\n",
    "\n",
    "**customer_id:** unique identifier for each customer having 10 characters\n",
    "\n",
    "**gender:** whether a customer is male or female with male = 0 and female = 1\n",
    "\n",
    "**senior_citizen:** whether a customer is a senior or not with not being a senior = 0 and being a senior = 1 \n",
    "\n",
    "**partner:** whether a customer has a partner or not with not having having a partner = 0 and having a partner = 1\n",
    "\n",
    "**dependents:** whether a customer has any dependents or not with not having having any dependents = 0 and having a dependent = 1\n",
    "\n",
    "**tenure:** number of months a customer was/or continues to be a customer\n",
    "\n",
    "**tenure_years:** number of years a customer was/or continues to be a customer. A created feature rounding up the number of months to the next year \n",
    "\n",
    "**phone_service:** whether a customer has phone service or not with not having any phone service = 0 and having phone service = 1\n",
    "\n",
    "**multiple_lines:** whether a customer has multiple phone lines or not with not having multiple phone lines = 0 and having multiple phone lines = 1\n",
    "\n",
    "**online_security:** whether a customer has online security or not with not having any online security = 0 and having online security = 1\n",
    "\n",
    "**online_backup:** whether a customer has online backup or not with not having any online backup = 0 and having online backup = 1\n",
    "\n",
    "**device_security:** whether a customer has device security or not with not having any device security = 0 and having device security = 1\n",
    "\n",
    "**tech_support:** whether a customer has tech support or not with not having any tech support = 0 and having tech support = 1\n",
    "\n",
    "**streaming_tv:** whether a customer has streaming tv service or not with not having any streaming tv service = 0 and having streaming tv service = 1\n",
    "\n",
    "**streaming_movies:** whether a customer has streaming movies service or not with not having any streaming movies service = 0 and having streaming movies service = 1\n",
    "\n",
    "**paperless_billing:** whether a customer has paperless billing or not with not having paperless_billing active = 0 and having having paperless_billing active = 1\n",
    "\n",
    "**monthly_charges:** amount of charges per month\n",
    "\n",
    "**total_charges:** amount of charges over full tenure as customer\n",
    "\n",
    "**churn:** whether or not a customer defected with having not churned = 0 and had churned = 1"
   ]
  },
  {
   "cell_type": "markdown",
   "metadata": {},
   "source": [
    "## Acquire"
   ]
  },
  {
   "cell_type": "markdown",
   "metadata": {},
   "source": [
    "- Acquire data from the customers table from the telco_churn database on the codeup data science database server"
   ]
  },
  {
   "cell_type": "code",
   "execution_count": 2,
   "metadata": {},
   "outputs": [],
   "source": [
    "df = acquire.get_telco_data()"
   ]
  },
  {
   "cell_type": "markdown",
   "metadata": {},
   "source": [
    "- General churn rate"
   ]
  },
  {
   "cell_type": "code",
   "execution_count": 3,
   "metadata": {},
   "outputs": [
    {
     "data": {
      "text/html": [
       "<div>\n",
       "<style scoped>\n",
       "    .dataframe tbody tr th:only-of-type {\n",
       "        vertical-align: middle;\n",
       "    }\n",
       "\n",
       "    .dataframe tbody tr th {\n",
       "        vertical-align: top;\n",
       "    }\n",
       "\n",
       "    .dataframe thead th {\n",
       "        text-align: right;\n",
       "    }\n",
       "</style>\n",
       "<table border=\"1\" class=\"dataframe\">\n",
       "  <thead>\n",
       "    <tr style=\"text-align: right;\">\n",
       "      <th></th>\n",
       "      <th>churn</th>\n",
       "    </tr>\n",
       "  </thead>\n",
       "  <tbody>\n",
       "    <tr>\n",
       "      <th>No</th>\n",
       "      <td>5174</td>\n",
       "    </tr>\n",
       "    <tr>\n",
       "      <th>Yes</th>\n",
       "      <td>1869</td>\n",
       "    </tr>\n",
       "  </tbody>\n",
       "</table>\n",
       "</div>"
      ],
      "text/plain": [
       "     churn\n",
       "No    5174\n",
       "Yes   1869"
      ]
     },
     "execution_count": 3,
     "metadata": {},
     "output_type": "execute_result"
    }
   ],
   "source": [
    "# calculate the average rate of churn\n",
    "basic_churn = df.churn.value_counts()\n",
    "basic_churn_df = pd.DataFrame(basic_churn) \n",
    "basic_churn_df"
   ]
  },
  {
   "cell_type": "code",
   "execution_count": 4,
   "metadata": {},
   "outputs": [
    {
     "data": {
      "text/plain": [
       "0.2653698707936959"
      ]
     },
     "execution_count": 4,
     "metadata": {},
     "output_type": "execute_result"
    }
   ],
   "source": [
    "# Find average churn rate\n",
    "churn_rate_bl = 1869/7043\n",
    "churn_rate_bl"
   ]
  },
  {
   "cell_type": "markdown",
   "metadata": {},
   "source": [
    "**Note:** If I was to selectively guess that every customer would not churn then I would be correct 74% of the time"
   ]
  },
  {
   "cell_type": "markdown",
   "metadata": {},
   "source": [
    "## Prep Baseline Data"
   ]
  },
  {
   "cell_type": "code",
   "execution_count": 5,
   "metadata": {},
   "outputs": [
    {
     "data": {
      "text/plain": [
       "internet_service_type_id      int64\n",
       "payment_type_id               int64\n",
       "contract_type_id              int64\n",
       "customer_id                  object\n",
       "gender                       object\n",
       "senior_citizen                int64\n",
       "partner                      object\n",
       "dependents                   object\n",
       "tenure                        int64\n",
       "phone_service                object\n",
       "multiple_lines               object\n",
       "online_security              object\n",
       "online_backup                object\n",
       "device_protection            object\n",
       "tech_support                 object\n",
       "streaming_tv                 object\n",
       "streaming_movies             object\n",
       "paperless_billing            object\n",
       "monthly_charges             float64\n",
       "total_charges                object\n",
       "churn                        object\n",
       "contract_type                object\n",
       "payment_type                 object\n",
       "internet_service_type        object\n",
       "dtype: object"
      ]
     },
     "execution_count": 5,
     "metadata": {},
     "output_type": "execute_result"
    }
   ],
   "source": [
    "# Determine data types\n",
    "# Note total_charges is an object\n",
    "df.dtypes"
   ]
  },
  {
   "cell_type": "code",
   "execution_count": 6,
   "metadata": {},
   "outputs": [],
   "source": [
    "# Clean data by converting total_charges to a float and drop null/nan\n",
    "df = prepare.clean_data(df)"
   ]
  },
  {
   "cell_type": "code",
   "execution_count": 27,
   "metadata": {},
   "outputs": [],
   "source": [
    "# Encode the churn column for the entire dataframe\n",
    "df = prepare.encoder(df)"
   ]
  },
  {
   "cell_type": "markdown",
   "metadata": {},
   "source": [
    "**Task:** I need to select which variables, pick a model and run the data"
   ]
  },
  {
   "cell_type": "markdown",
   "metadata": {},
   "source": [
    "- Split my data into a .80 train / test .20 split and use a random state = 123\n",
    "- Drop non numeric colums"
   ]
  },
  {
   "cell_type": "code",
   "execution_count": 47,
   "metadata": {},
   "outputs": [],
   "source": [
    "# Function split_my_data_bl() in prepare.py:\n",
    "\n",
    "# Drops columns = \"customer_id\", \"gender\", \"partner\", \"dependents\", \"phone_service\", \\\n",
    "# \"multiple_lines\", \"online_security\", \"online_backup\", \"device_protection\", \"tech_support\", \\\n",
    "# \"streaming_tv\", \"streaming_movies\" \"paperless_billing\", \"contract_type\", \"payment_type\", \"internet_service_type\"\n",
    "\n",
    "# Splits data into X (mult. variables), y (target), and into train and test dataframes\n",
    "\n",
    "X, y, X_train, X_test, y_train, y_test = prepare.split_my_data_bl(df)"
   ]
  },
  {
   "cell_type": "markdown",
   "metadata": {},
   "source": [
    "## Model Baseline"
   ]
  },
  {
   "cell_type": "markdown",
   "metadata": {},
   "source": [
    "- Use a Decision Tree Model with the criterion='gini', max depth = 3, and random state = 123"
   ]
  },
  {
   "cell_type": "code",
   "execution_count": 22,
   "metadata": {},
   "outputs": [
    {
     "data": {
      "text/plain": [
       "DecisionTreeClassifier(class_weight=None, criterion='gini', max_depth=3,\n",
       "                       max_features=None, max_leaf_nodes=None,\n",
       "                       min_impurity_decrease=0.0, min_impurity_split=None,\n",
       "                       min_samples_leaf=1, min_samples_split=2,\n",
       "                       min_weight_fraction_leaf=0.0, presort=False,\n",
       "                       random_state=123, splitter='best')"
      ]
     },
     "execution_count": 22,
     "metadata": {},
     "output_type": "execute_result"
    }
   ],
   "source": [
    "clf = DecisionTreeClassifier(criterion='gini', max_depth=3, random_state=123)\n",
    "clf.fit(X_train, y_train)"
   ]
  },
  {
   "cell_type": "code",
   "execution_count": 24,
   "metadata": {},
   "outputs": [
    {
     "data": {
      "text/plain": [
       "array([0, 0, 1, ..., 0, 0, 1])"
      ]
     },
     "execution_count": 24,
     "metadata": {},
     "output_type": "execute_result"
    }
   ],
   "source": [
    "# Predict churn\n",
    "\n",
    "y_pred = clf.predict(X_train)"
   ]
  },
  {
   "cell_type": "code",
   "execution_count": 37,
   "metadata": {},
   "outputs": [
    {
     "data": {
      "text/plain": [
       "array([[0.91489362, 0.08510638],\n",
       "       [0.91489362, 0.08510638],\n",
       "       [0.30799476, 0.69200524],\n",
       "       ...,\n",
       "       [0.92966002, 0.07033998],\n",
       "       [0.59355509, 0.40644491],\n",
       "       [0.30799476, 0.69200524]])"
      ]
     },
     "execution_count": 37,
     "metadata": {},
     "output_type": "execute_result"
    }
   ],
   "source": [
    "# Probability of churn\n",
    "\n",
    "y_pred_proba = clf.predict_proba(X_train)\n",
    "y_pred_proba"
   ]
  },
  {
   "cell_type": "markdown",
   "metadata": {},
   "source": [
    "- Evaluate your in-sample results using the model score, confusion matrix, and classification report."
   ]
  },
  {
   "cell_type": "code",
   "execution_count": 28,
   "metadata": {},
   "outputs": [
    {
     "name": "stdout",
     "output_type": "stream",
     "text": [
      "Accuracy of Decision Tree classifier on training set: 0.79\n"
     ]
    }
   ],
   "source": [
    "print('Accuracy of Decision Tree classifier on training set: {:.2f}'\n",
    "     .format(clf.score(X_train, y_train)))"
   ]
  },
  {
   "cell_type": "code",
   "execution_count": 29,
   "metadata": {},
   "outputs": [
    {
     "data": {
      "text/plain": [
       "array([[3898,  235],\n",
       "       [ 964,  528]])"
      ]
     },
     "execution_count": 29,
     "metadata": {},
     "output_type": "execute_result"
    }
   ],
   "source": [
    "confusion_matrix(y_train, y_pred)\n"
   ]
  },
  {
   "cell_type": "code",
   "execution_count": 17,
   "metadata": {},
   "outputs": [
    {
     "name": "stdout",
     "output_type": "stream",
     "text": [
      "              precision    recall  f1-score   support\n",
      "\n",
      "           0       0.80      0.94      0.87      4133\n",
      "           1       0.69      0.35      0.47      1492\n",
      "\n",
      "    accuracy                           0.79      5625\n",
      "   macro avg       0.75      0.65      0.67      5625\n",
      "weighted avg       0.77      0.79      0.76      5625\n",
      "\n"
     ]
    }
   ],
   "source": [
    "print(classification_report(y_train, y_pred))"
   ]
  },
  {
   "cell_type": "markdown",
   "metadata": {},
   "source": [
    "## Explore"
   ]
  },
  {
   "cell_type": "markdown",
   "metadata": {},
   "source": [
    "1. Could the month in which they signed up influence churn? i.e. if a cohort is identified by tenure, is there a cohort or cohorts who have a higher rate of churn than other cohorts? (Plot the rate of churn on a line chart where x is the tenure and y is the rate of churn (customers churned/total customers))"
   ]
  },
  {
   "cell_type": "code",
   "execution_count": 38,
   "metadata": {},
   "outputs": [],
   "source": [
    "# function to encode all variables and drop contract_type, internet_service_type, and payment_type\n",
    "def encoder_all(df):\n",
    "    encoder = LabelEncoder()\n",
    "    df_encoded = df.drop(columns=['contract_type', 'internet_service_type','payment_type'])\n",
    "    encode_list = ['gender','partner', 'dependents', 'phone_service','multiple_lines', 'online_security', \\\n",
    "                  'online_backup','device_protection','tech_support','streaming_tv', \\\n",
    "                  'streaming_movies', 'paperless_billing', 'churn']\n",
    "    for c in encode_list:\n",
    "        df_encoded[c] = encoder.fit_transform(df_encoded[c])\n",
    "    return df_encoded"
   ]
  },
  {
   "cell_type": "code",
   "execution_count": 48,
   "metadata": {
    "scrolled": true
   },
   "outputs": [
    {
     "name": "stdout",
     "output_type": "stream",
     "text": [
      "<class 'pandas.core.frame.DataFrame'>\n",
      "Int64Index: 7032 entries, 0 to 7042\n",
      "Data columns (total 21 columns):\n",
      "internet_service_type_id    7032 non-null int64\n",
      "payment_type_id             7032 non-null int64\n",
      "contract_type_id            7032 non-null int64\n",
      "customer_id                 7032 non-null object\n",
      "gender                      7032 non-null int64\n",
      "senior_citizen              7032 non-null int64\n",
      "partner                     7032 non-null int64\n",
      "dependents                  7032 non-null int64\n",
      "tenure                      7032 non-null int64\n",
      "phone_service               7032 non-null int64\n",
      "multiple_lines              7032 non-null int64\n",
      "online_security             7032 non-null int64\n",
      "online_backup               7032 non-null int64\n",
      "device_protection           7032 non-null int64\n",
      "tech_support                7032 non-null int64\n",
      "streaming_tv                7032 non-null int64\n",
      "streaming_movies            7032 non-null int64\n",
      "paperless_billing           7032 non-null int64\n",
      "monthly_charges             7032 non-null float64\n",
      "total_charges               7032 non-null float64\n",
      "churn                       7032 non-null int64\n",
      "dtypes: float64(2), int64(18), object(1)\n",
      "memory usage: 1.2+ MB\n"
     ]
    }
   ],
   "source": [
    "df_encoded = encoder_all(df)"
   ]
  },
  {
   "cell_type": "markdown",
   "metadata": {},
   "source": [
    "2. Are there features that indicate a higher propensity to churn? like type of internet service, type of phone service, online security and backup, senior citizens, paying more than x% of customers with the same services, etc.?"
   ]
  },
  {
   "cell_type": "code",
   "execution_count": null,
   "metadata": {},
   "outputs": [],
   "source": []
  },
  {
   "cell_type": "markdown",
   "metadata": {},
   "source": [
    "3. Is there a price threshold for specific services where the likelihood of churn increases once price for those services goes past that point? If so, what is that point for what service(s)?"
   ]
  },
  {
   "cell_type": "code",
   "execution_count": null,
   "metadata": {},
   "outputs": [],
   "source": []
  },
  {
   "cell_type": "markdown",
   "metadata": {},
   "source": [
    "4. If we looked at churn rate for month-to-month customers after the 12th month and that of 1-year contract customers after the 12th month, are those rates comparable?"
   ]
  },
  {
   "cell_type": "code",
   "execution_count": null,
   "metadata": {},
   "outputs": [],
   "source": []
  }
 ],
 "metadata": {
  "kernelspec": {
   "display_name": "Python 3",
   "language": "python",
   "name": "python3"
  },
  "language_info": {
   "codemirror_mode": {
    "name": "ipython",
    "version": 3
   },
   "file_extension": ".py",
   "mimetype": "text/x-python",
   "name": "python",
   "nbconvert_exporter": "python",
   "pygments_lexer": "ipython3",
   "version": "3.7.3"
  }
 },
 "nbformat": 4,
 "nbformat_minor": 2
}
